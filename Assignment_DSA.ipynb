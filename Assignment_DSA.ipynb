{
  "nbformat": 4,
  "nbformat_minor": 0,
  "metadata": {
    "colab": {
      "provenance": [],
      "authorship_tag": "ABX9TyMgaq3jkRHZUb2uHUCHexrE",
      "include_colab_link": true
    },
    "kernelspec": {
      "name": "python3",
      "display_name": "Python 3"
    },
    "language_info": {
      "name": "python"
    }
  },
  "cells": [
    {
      "cell_type": "markdown",
      "metadata": {
        "id": "view-in-github",
        "colab_type": "text"
      },
      "source": [
        "<a href=\"https://colab.research.google.com/github/Tushar-rancy/Assignment_2_DSA/blob/main/Assignment_DSA.ipynb\" target=\"_parent\"><img src=\"https://colab.research.google.com/assets/colab-badge.svg\" alt=\"Open In Colab\"/></a>"
      ]
    },
    {
      "cell_type": "markdown",
      "source": [
        "**1. Discuss string slicing and provide examples**\n",
        "\n",
        "**Answer :** String slicing is getting the particular part of the string.\n",
        "\n",
        "for Example - Vichar101\n",
        "for the above string I want Vichar as separate string and 101 as separate, here I want to slice Vichar101 into Vichar and 101 into these 2 pieces.\n",
        "So I will do string slicing in python as below;"
      ],
      "metadata": {
        "id": "Rdu-IQx91B96"
      }
    },
    {
      "cell_type": "code",
      "execution_count": null,
      "metadata": {
        "colab": {
          "base_uri": "https://localhost:8080/"
        },
        "id": "LVe5yo3o0F7F",
        "outputId": "b7fc4588-945b-44bb-e8ec-2153701df0fd"
      },
      "outputs": [
        {
          "output_type": "stream",
          "name": "stdout",
          "text": [
            "Slice 1 of Vichar101 :  Vichar\n",
            "Slice 2 of Vichar101 : 101\n"
          ]
        }
      ],
      "source": [
        "main_string = 'Vichar101'\n",
        "slice_1 = main_string[0:6]\n",
        "slice_2 = main_string[6:11]\n",
        "print(\"Slice 1 of Vichar101 : \",slice_1)\n",
        "print(\"Slice 2 of Vichar101 :\",slice_2)\n"
      ]
    },
    {
      "cell_type": "markdown",
      "source": [
        "\n",
        "**2. Explain the key features of lists in Python**\n",
        "\n",
        "**Answer :**\n",
        "1.List is ordered collection of Data.\n",
        "\n",
        "2.It is very versetile form of storing the various type of data in python, we can store any type of data together like string, integer, float, boolean and other list etc.\n",
        "\n",
        "3.we can perfom various operation in list like adding, removing, insering the elements using indexing and slicing of the list.\n",
        "\n",
        "please refer below example codes for list and it's features;\n"
      ],
      "metadata": {
        "id": "5zR6afn839ft"
      }
    },
    {
      "cell_type": "code",
      "source": [
        "list_1 = ['Ferrari', 750, 36.79, True]\n",
        "list_1.append(\"BMW\") # here I added new string to list using append function of list datatype.\n",
        "print(list_1)"
      ],
      "metadata": {
        "colab": {
          "base_uri": "https://localhost:8080/"
        },
        "id": "UFCq-vKd39DN",
        "outputId": "3fabd71a-bd75-4c4d-8152-b8e9d050706f"
      },
      "execution_count": null,
      "outputs": [
        {
          "output_type": "stream",
          "name": "stdout",
          "text": [
            "['Ferrari', 750, 36.79, True, 'BMW']\n"
          ]
        }
      ]
    },
    {
      "cell_type": "code",
      "source": [
        "list_1.remove(750) # here I removed 750 from list using remove function of list datatype.\n",
        "print(list_1)"
      ],
      "metadata": {
        "colab": {
          "base_uri": "https://localhost:8080/"
        },
        "id": "wJJ5eXcv8Blu",
        "outputId": "bcd80064-47e4-482d-99a0-3fd20b32c20d"
      },
      "execution_count": null,
      "outputs": [
        {
          "output_type": "stream",
          "name": "stdout",
          "text": [
            "['Ferrari', 36.79, True, 'BMW']\n"
          ]
        }
      ]
    },
    {
      "cell_type": "code",
      "source": [
        "list_1.insert(1,850) # here I inserted 850 at index 1 using insert function of list datatype.\n",
        "print(list_1)"
      ],
      "metadata": {
        "colab": {
          "base_uri": "https://localhost:8080/"
        },
        "id": "YdDV0Bql8Mem",
        "outputId": "b974158a-ff20-47f9-8986-f52b935b6d4c"
      },
      "execution_count": null,
      "outputs": [
        {
          "output_type": "stream",
          "name": "stdout",
          "text": [
            "['Ferrari', 850, 36.79, True, 'BMW']\n"
          ]
        }
      ]
    },
    {
      "cell_type": "code",
      "source": [
        "list_1.reverse() # here I reversed the list using reverse function of list datatype.\n",
        "print(list_1)"
      ],
      "metadata": {
        "colab": {
          "base_uri": "https://localhost:8080/"
        },
        "id": "Wlcel2vv8gLW",
        "outputId": "b77d4aa9-faa1-4e77-fe91-41375423a532"
      },
      "execution_count": null,
      "outputs": [
        {
          "output_type": "stream",
          "name": "stdout",
          "text": [
            "['BMW', True, 36.79, 850, 'Ferrari']\n"
          ]
        }
      ]
    },
    {
      "cell_type": "markdown",
      "source": [
        "Similar as the above examples there are othe functions as we like pop, clear, copy, count, extend, index,sort ect."
      ],
      "metadata": {
        "id": "T-pj2SsO9V9v"
      }
    },
    {
      "cell_type": "markdown",
      "source": [
        "**3.Describe how to access, modify, and delete elements in a list with examples**\n",
        "\n",
        "**Answer :** see below codes"
      ],
      "metadata": {
        "id": "ijQ_wdUu97D2"
      }
    },
    {
      "cell_type": "code",
      "source": [
        "# Accessing the elements : We can access elements of the list using the index of element.\n",
        "\n",
        "list_1 = ['Ferrari', 750, 36.79, True]\n",
        "print(list_1[0])\n",
        "print(list_1[-1])"
      ],
      "metadata": {
        "colab": {
          "base_uri": "https://localhost:8080/"
        },
        "id": "F__dVz7B-FXw",
        "outputId": "3204df64-aea1-4e83-f7d6-955e2bc5803d"
      },
      "execution_count": null,
      "outputs": [
        {
          "output_type": "stream",
          "name": "stdout",
          "text": [
            "Ferrari\n",
            "True\n"
          ]
        }
      ]
    },
    {
      "cell_type": "code",
      "source": [
        "#Modifying the element : we can modify the element using it's index.\n",
        "\n",
        "list_1[0] = 'BMW'\n",
        "print(list_1)"
      ],
      "metadata": {
        "colab": {
          "base_uri": "https://localhost:8080/"
        },
        "id": "jskz7q2V_N6P",
        "outputId": "3b883388-0946-42b5-9dd9-15412f740fd7"
      },
      "execution_count": null,
      "outputs": [
        {
          "output_type": "stream",
          "name": "stdout",
          "text": [
            "['BMW', 750, 36.79, True]\n"
          ]
        }
      ]
    },
    {
      "cell_type": "code",
      "source": [
        "# Deleting the element : we can delete element from list using del function, using remove method or using pop method."
      ],
      "metadata": {
        "id": "plXkUGiy_lgg"
      },
      "execution_count": null,
      "outputs": []
    },
    {
      "cell_type": "code",
      "source": [
        "fruits = ['Apple', 'Banana', 'orange','Cherry','Blueberry']\n",
        "del fruits[3]\n",
        "print(fruits)"
      ],
      "metadata": {
        "colab": {
          "base_uri": "https://localhost:8080/"
        },
        "id": "l3l-NqL7_5F3",
        "outputId": "f7013e08-5969-41e9-fced-4339d0736731"
      },
      "execution_count": null,
      "outputs": [
        {
          "output_type": "stream",
          "name": "stdout",
          "text": [
            "['Apple', 'Banana', 'orange', 'Blueberry']\n"
          ]
        }
      ]
    },
    {
      "cell_type": "code",
      "source": [
        "#Using remove method :\n",
        "fruits = ['Apple', 'Banana', 'orange','Cherry','Blueberry']\n",
        "fruits.remove('Apple')\n",
        "print(fruits)"
      ],
      "metadata": {
        "colab": {
          "base_uri": "https://localhost:8080/"
        },
        "id": "g8CaJ3h4A2Ig",
        "outputId": "952b49b1-4268-4bde-d339-cb57e75b08e4"
      },
      "execution_count": null,
      "outputs": [
        {
          "output_type": "stream",
          "name": "stdout",
          "text": [
            "['Banana', 'orange', 'Cherry', 'Blueberry']\n"
          ]
        }
      ]
    },
    {
      "cell_type": "code",
      "source": [
        "#using pop method :\n",
        "fruits = ['Apple', 'Banana', 'orange','Cherry','Blueberry']\n",
        "fruits.pop(4)\n",
        "print(fruits)"
      ],
      "metadata": {
        "colab": {
          "base_uri": "https://localhost:8080/"
        },
        "id": "hpZt_Pv6A_H3",
        "outputId": "6fff4382-c8e1-4c6e-dbda-e326a07bb315"
      },
      "execution_count": null,
      "outputs": [
        {
          "output_type": "stream",
          "name": "stdout",
          "text": [
            "['Apple', 'Banana', 'orange', 'Cherry']\n"
          ]
        }
      ]
    },
    {
      "cell_type": "markdown",
      "source": [
        "**4.Compare and contrast tuples and lists with examples**\n",
        "\n",
        "**Answer :**\n",
        "\n",
        "***Key Differences***\n",
        "\n",
        "1.Mutability:\n",
        "\n",
        "Lists are mutable; you can modify their content.\n",
        "\n",
        "Tuples are immutable; once created, their content cannot be changed.\n",
        "\n",
        "2.Syntax:\n",
        "\n",
        "Lists use square brackets [ ].\n",
        "\n",
        "Tuples use parentheses ().\n",
        "\n",
        "3.Performance:\n",
        "\n",
        "Tuples can be slightly faster than lists due to their immutability.\n",
        "\n",
        "4.Use Cases:\n",
        "\n",
        "Use lists when you need a collection of items that can change.\n",
        "\n",
        "Use tuples when you need a collection of items that should remain constant.\n",
        "\n",
        "***Similarities***\n",
        "\n",
        "Both can store heterogeneous data types (e.g., integers, strings, objects).\n",
        "\n",
        "Both support indexing and slicing.\n",
        "\n",
        "Both can be nested (i.e., you can have lists of lists or tuples of tuples).\n",
        "\n",
        "\n",
        "**Please refer below codes for example;**"
      ],
      "metadata": {
        "id": "60VzQBsnBZii"
      }
    },
    {
      "cell_type": "code",
      "source": [
        "# Creating a list\n",
        "fruits = ['apple', 'banana', 'cherry']\n",
        "\n",
        "# Modifying a list\n",
        "fruits[1] = 'blueberry'\n",
        "print(fruits)  # Output: ['apple', 'blueberry', 'cherry']\n",
        "\n",
        "# Adding an element\n",
        "fruits.append('date')\n",
        "print(fruits)  # Output: ['apple', 'blueberry', 'cherry', 'date']\n",
        "\n",
        "# Removing an element\n",
        "fruits.remove('cherry')\n",
        "print(fruits)  # Output: ['apple', 'blueberry', 'date']"
      ],
      "metadata": {
        "id": "h8doKwozC0r3"
      },
      "execution_count": null,
      "outputs": []
    },
    {
      "cell_type": "code",
      "source": [
        "# Creating a tuple\n",
        "fruits = ('apple', 'banana', 'cherry')\n",
        "\n",
        "# Accessing elements\n",
        "print(fruits[1])  # Output: banana\n",
        "\n",
        "# Trying to modify a tuple (will raise an error)\n",
        "fruits[1] = 'blueberry'  # TypeError: 'tuple' object does not support item assignment"
      ],
      "metadata": {
        "colab": {
          "base_uri": "https://localhost:8080/",
          "height": 193
        },
        "id": "fSHofSjZEJZw",
        "outputId": "c54f268c-4b4a-4436-8f79-7362cef11d68"
      },
      "execution_count": null,
      "outputs": [
        {
          "output_type": "stream",
          "name": "stdout",
          "text": [
            "banana\n"
          ]
        },
        {
          "output_type": "error",
          "ename": "TypeError",
          "evalue": "'tuple' object does not support item assignment",
          "traceback": [
            "\u001b[0;31m---------------------------------------------------------------------------\u001b[0m",
            "\u001b[0;31mTypeError\u001b[0m                                 Traceback (most recent call last)",
            "\u001b[0;32m<ipython-input-19-ed1fea008293>\u001b[0m in \u001b[0;36m<cell line: 8>\u001b[0;34m()\u001b[0m\n\u001b[1;32m      6\u001b[0m \u001b[0;34m\u001b[0m\u001b[0m\n\u001b[1;32m      7\u001b[0m \u001b[0;31m# Trying to modify a tuple (will raise an error)\u001b[0m\u001b[0;34m\u001b[0m\u001b[0;34m\u001b[0m\u001b[0m\n\u001b[0;32m----> 8\u001b[0;31m \u001b[0mfruits\u001b[0m\u001b[0;34m[\u001b[0m\u001b[0;36m1\u001b[0m\u001b[0;34m]\u001b[0m \u001b[0;34m=\u001b[0m \u001b[0;34m'blueberry'\u001b[0m  \u001b[0;31m# TypeError: 'tuple' object does not support item assignment\u001b[0m\u001b[0;34m\u001b[0m\u001b[0;34m\u001b[0m\u001b[0m\n\u001b[0m",
            "\u001b[0;31mTypeError\u001b[0m: 'tuple' object does not support item assignment"
          ]
        }
      ]
    },
    {
      "cell_type": "markdown",
      "source": [
        "**5.Describe the key features of sets and provide examples of their use**\n",
        "\n",
        "**Answer :**\n",
        "\n",
        "1. set is unordered collection of unique elements.\n",
        "2. Duplicate valuse are not allowed in sets.\n",
        "3. we can't access element of set using index.\n",
        "4. set is represented by symbol {}.\n",
        "5. we can convert any list which is containing duplicate values into sets to remove duplicate calues from it.\n",
        "6. we can perform various mathematical set operations like union, intersaction, difference, Symetric difference.\n",
        "\n",
        "*Please Refer below code for example of sets:*"
      ],
      "metadata": {
        "id": "ISjAWSsAdmeu"
      }
    },
    {
      "cell_type": "code",
      "source": [
        "List = [\"Tom\", \"Jerry\", 1,2,3,3,2,1,\"Jerry\",2,1,2,\"Jerry\",1,\"Tom\"]  #here this list is containing lots of duplicate values in it, but we need only unique valuse so we will convert it into set.\n",
        "set_1 = set(List)\n",
        "print(set_1)\n",
        "# output : {1, 2, 3, 'Jerry', 'Tom'}   Here we can see all duplicate values are removed.\n"
      ],
      "metadata": {
        "colab": {
          "base_uri": "https://localhost:8080/"
        },
        "id": "V13zzLoyS6pm",
        "outputId": "a74bfe1e-6b34-4760-985e-973292db2cb5"
      },
      "execution_count": null,
      "outputs": [
        {
          "output_type": "execute_result",
          "data": {
            "text/plain": [
              "{1, 2, 3, 'Jerry', 'Tom'}"
            ]
          },
          "metadata": {},
          "execution_count": 4
        }
      ]
    },
    {
      "cell_type": "code",
      "source": [
        "# Unioun operation\n",
        "\n",
        "set_names = {\"Raj\", \"Sihayi\", \"Vichar\", \"Sujal\",99, \"side\"}\n",
        "set_number = {101,512,99,\"side\",11.11}\n",
        "union_set = set_names | set_number\n",
        "print(\"Union of sets is : \", union_set)\n",
        "\n",
        "# Intersectuon operation :\n",
        "\n",
        "set_names = {\"Raj\", \"Sihayi\", \"Vichar\", \"Sujal\",99, \"side\"}\n",
        "set_number = {101,512,99,\"side\",11.11}\n",
        "intersaction_set = set_names & set_number\n",
        "print(\"intersaction of sets is : \", intersaction_set)\n",
        "\n",
        "\n",
        "# Difference :\n",
        "\n",
        "difference_set_1 = set_names - set_number\n",
        "difference_set_2 = set_number - set_names\n",
        "\n",
        "print (\"difference set 1 : \", difference_set_1)\n",
        "print (\"difference set 2 :\", difference_set_2)\n",
        "\n",
        "# Symetric difference :\n",
        "\n",
        "symetric_difference_set = set_names ^ set_number\n",
        "print(\"symetric set :\", symetric_difference_set)"
      ],
      "metadata": {
        "colab": {
          "base_uri": "https://localhost:8080/"
        },
        "id": "HhzcK644jAAy",
        "outputId": "0c6c0a70-edbd-4d92-b47f-75ac0fe70420"
      },
      "execution_count": null,
      "outputs": [
        {
          "output_type": "stream",
          "name": "stdout",
          "text": [
            "Union of sets is :  {512, 'side', 99, 101, 'Vichar', 'Sihayi', 11.11, 'Raj', 'Sujal'}\n",
            "intersaction of sets is :  {'side', 99}\n",
            "difference set 1 :  {'Sihayi', 'Sujal', 'Raj', 'Vichar'}\n",
            "difference set 2 : {512, 11.11, 101}\n",
            "symetric set : {512, 101, 'Vichar', 'Sihayi', 11.11, 'Raj', 'Sujal'}\n"
          ]
        }
      ]
    },
    {
      "cell_type": "code",
      "source": [
        "# Some other methods of sets\n",
        "\n",
        "set_example = {512, 'side', 99, 101, 'Vichar', 'Sihayi', 11.11, 'Raj', 'Sujal'}\n",
        "set_example.add(\"pho\")\n",
        "print(set_example) # output : {512, 'side', 99, 101, 'Vichar', 'pho', 'Sihayi', 11.11, 'Raj', 'Sujal'}\n",
        "\n",
        "set_example.pop() #output : 512\n",
        "\n",
        "set_example.remove(\"Raj\")\n",
        "print(set_example) # output : {'side', 99, 101, 'Vichar', 'pho', 'Sihayi', 11.11, 'Sujal'}\n",
        "\n",
        "set_example.discard(\"512\")\n",
        "print(set_example) # output : {'side', 99, 101, 'Vichar', 'pho', 'Sihayi', 11.11, 'Sujal'}"
      ],
      "metadata": {
        "colab": {
          "base_uri": "https://localhost:8080/"
        },
        "id": "547qFlNal1dt",
        "outputId": "e8201538-a09c-427f-f4cb-6974822067cc"
      },
      "execution_count": null,
      "outputs": [
        {
          "output_type": "stream",
          "name": "stdout",
          "text": [
            "{512, 'side', 99, 101, 'Vichar', 'pho', 'Sihayi', 11.11, 'Raj', 'Sujal'}\n",
            "{'side', 99, 101, 'Vichar', 'pho', 'Sihayi', 11.11, 'Sujal'}\n",
            "{'side', 99, 101, 'Vichar', 'pho', 'Sihayi', 11.11, 'Sujal'}\n"
          ]
        }
      ]
    },
    {
      "cell_type": "markdown",
      "source": [
        "**6.Discuss the use cases of tuples and sets in Python programming**\n",
        "\n",
        "**Answer :**\n",
        "\n",
        "1. Tuples are immutable data collection of ordered elements, due to immutability tupleas are used to store data that doesn't needs to be changed thought the program. due to immutibility of sets it will take less space and speed to run the program is also more than list.\n",
        "real life example for touple is if we have fixed menu of restaurant then we can use touple data structure to store all dishes because it is fixed menue, we don't want to change any thing.\n",
        "\n",
        "2. sets are mutable data collection of unique unordered elements. set is use to store unique data which doesn't have any duplicate value in it. we can use various set mathematical operation to manupulate data for different needs and purposes.\n",
        "Real life example of set is to store employee ID as we know employee id should be unique for each employee so we can use set here to store it to avoid duplication."
      ],
      "metadata": {
        "id": "fBCw-2Drn9Jm"
      }
    },
    {
      "cell_type": "markdown",
      "source": [
        "**7.Describe how to add, modify, and delete items in a dictionary with examples**\n",
        "\n",
        "**Answer : ** see below code\n",
        "\n"
      ],
      "metadata": {
        "id": "BRXgOKxhrXfe"
      }
    },
    {
      "cell_type": "code",
      "source": [
        "# adding the new value in dictionary\n",
        "\n",
        "dict_1 = {\"Lamborghini\": \"Huracan Tecnica\", \"Ferrari\": \"F8\", \"Maserati\": \"MC20\", \"Porsche\":\"911\"}\n",
        "dict_1.update({\"McLaren\":\"Artura\"})\n",
        "print(dict_1)"
      ],
      "metadata": {
        "colab": {
          "base_uri": "https://localhost:8080/"
        },
        "id": "mz4EUC5YmbZZ",
        "outputId": "6adefd01-70a3-4b11-c0f0-2e50f6a55247"
      },
      "execution_count": null,
      "outputs": [
        {
          "output_type": "stream",
          "name": "stdout",
          "text": [
            "{'Lamborghini': 'Huracan Tecnica', 'Ferrari': 'F8', 'Maserati': 'MC20', 'Porsche': '911', 'McLaren': 'Artura'}\n"
          ]
        }
      ]
    },
    {
      "cell_type": "code",
      "source": [
        "# modifying value in dictionary :\n",
        "\n",
        "dict_1 = {\"Lamborghini\": \"Huracan Tecnica\", \"Ferrari\": \"F8\", \"Maserati\": \"MC20\", \"Porsche\":\"911\"}\n",
        "dict_1[\"Ferrari\"] = \"SF90 Stradal\"\n",
        "print(dict_1)"
      ],
      "metadata": {
        "colab": {
          "base_uri": "https://localhost:8080/"
        },
        "id": "f883nPvctvpE",
        "outputId": "0bf6b3ae-8050-4226-8f3c-c9c945dec420"
      },
      "execution_count": null,
      "outputs": [
        {
          "output_type": "stream",
          "name": "stdout",
          "text": [
            "{'Lamborghini': 'Huracan Tecnica', 'Ferrari': 'SF90 Stradal', 'Maserati': 'MC20', 'Porsche': '911'}\n"
          ]
        }
      ]
    },
    {
      "cell_type": "code",
      "source": [
        "#deleting the element in dictionary :\n",
        "\n",
        "dict_1 = {\"Lamborghini\": \"Huracan Tecnica\", \"Ferrari\": \"F8\", \"Maserati\": \"MC20\", \"Porsche\":\"911\"}\n",
        "del dict_1[\"Maserati\"]\n",
        "print(dict_1)\n",
        "\n",
        "dict_1.pop(\"Lamborghini\")\n",
        "print(dict_1)"
      ],
      "metadata": {
        "colab": {
          "base_uri": "https://localhost:8080/"
        },
        "id": "KeaN6bzpuLr1",
        "outputId": "6d9f8cb3-47c9-4890-a281-b7e8c65eb295"
      },
      "execution_count": null,
      "outputs": [
        {
          "output_type": "stream",
          "name": "stdout",
          "text": [
            "{'Lamborghini': 'Huracan Tecnica', 'Ferrari': 'F8', 'Porsche': '911'}\n",
            "{'Ferrari': 'F8', 'Porsche': '911'}\n"
          ]
        }
      ]
    },
    {
      "cell_type": "markdown",
      "source": [
        "**8. Discuss the importance of dictionary keys being immutable and provide example**\n",
        "\n",
        "**Answer : **\n",
        "\n",
        "In Python, dictionary keys must be immutable. This is crucial for several reasons:\n",
        "\n",
        "**Hashability:** Dictionary keys need to be hashable, meaning their hash value should not change during their lifetime. Immutable objects like strings, numbers, and tuples have a fixed hash value, making them suitable as dictionary keys.\n",
        "\n",
        "**Consistency:** If dictionary keys were mutable, their values could change, leading to inconsistencies in the dictionary. For example, if a key's value changes, the dictionary might not be able to find the key again, causing errors.\n",
        "\n",
        "**Performance:** Immutable keys ensure that the dictionary's internal structure remains stable, allowing for efficient lookups, insertions, and deletions.\n",
        "\n",
        "Here's an example to illustrate this:"
      ],
      "metadata": {
        "id": "h4RwstauvBdd"
      }
    },
    {
      "cell_type": "code",
      "source": [
        "Dict_new = {\"Name\" : \"Tushar\", 24 : \"Age\", (1,2): \"Key as touple\"}\n",
        "Dict_new[\"Name\"] # output : Tushar ---> because string is immutable key, so hash value is consistant and will not through any error.\n",
        "Dict_new[24]   # output : Age ----> because integer is immutable key, so hash value is consistant and will not through any error.\n",
        "Dict_new[(1,2)]  # output : Key as touple ----> because Tuple is immutable key, so hash value is consistant and will not through any error."
      ],
      "metadata": {
        "colab": {
          "base_uri": "https://localhost:8080/",
          "height": 35
        },
        "id": "EoAdkH_0v6do",
        "outputId": "bfde2701-8eb1-4da8-ab7b-19dcc59fc6bb"
      },
      "execution_count": null,
      "outputs": [
        {
          "output_type": "execute_result",
          "data": {
            "text/plain": [
              "'Key as touple'"
            ],
            "application/vnd.google.colaboratory.intrinsic+json": {
              "type": "string"
            }
          },
          "metadata": {},
          "execution_count": 33
        }
      ]
    },
    {
      "cell_type": "code",
      "source": [
        "Dict_new = {\"Name\" : \"Tushar\", 24 : \"Age\", [1,2]: \"Key as touple\"}\n",
        "Dict_new[[1,2]] # output : TypeError: unhashable type: 'list' ---> Because list is mutable key, so hash value is changable not consistent thats why it will through error."
      ],
      "metadata": {
        "colab": {
          "base_uri": "https://localhost:8080/",
          "height": 159
        },
        "id": "l66i4UhaxWeQ",
        "outputId": "5f9c7cc6-a9ab-441d-c049-bfff1b1a2e64"
      },
      "execution_count": null,
      "outputs": [
        {
          "output_type": "error",
          "ename": "TypeError",
          "evalue": "unhashable type: 'list'",
          "traceback": [
            "\u001b[0;31m---------------------------------------------------------------------------\u001b[0m",
            "\u001b[0;31mTypeError\u001b[0m                                 Traceback (most recent call last)",
            "\u001b[0;32m<ipython-input-34-0d27a238ddc8>\u001b[0m in \u001b[0;36m<cell line: 1>\u001b[0;34m()\u001b[0m\n\u001b[0;32m----> 1\u001b[0;31m \u001b[0mDict_new\u001b[0m \u001b[0;34m=\u001b[0m \u001b[0;34m{\u001b[0m\u001b[0;34m\"Name\"\u001b[0m \u001b[0;34m:\u001b[0m \u001b[0;34m\"Tushar\"\u001b[0m\u001b[0;34m,\u001b[0m \u001b[0;36m24\u001b[0m \u001b[0;34m:\u001b[0m \u001b[0;34m\"Age\"\u001b[0m\u001b[0;34m,\u001b[0m \u001b[0;34m[\u001b[0m\u001b[0;36m1\u001b[0m\u001b[0;34m,\u001b[0m\u001b[0;36m2\u001b[0m\u001b[0;34m]\u001b[0m\u001b[0;34m:\u001b[0m \u001b[0;34m\"Key as touple\"\u001b[0m\u001b[0;34m}\u001b[0m\u001b[0;34m\u001b[0m\u001b[0;34m\u001b[0m\u001b[0m\n\u001b[0m\u001b[1;32m      2\u001b[0m \u001b[0mDict_new\u001b[0m\u001b[0;34m[\u001b[0m\u001b[0;34m[\u001b[0m\u001b[0;36m1\u001b[0m\u001b[0;34m,\u001b[0m\u001b[0;36m2\u001b[0m\u001b[0;34m]\u001b[0m\u001b[0;34m]\u001b[0m\u001b[0;34m\u001b[0m\u001b[0;34m\u001b[0m\u001b[0m\n",
            "\u001b[0;31mTypeError\u001b[0m: unhashable type: 'list'"
          ]
        }
      ]
    },
    {
      "cell_type": "markdown",
      "source": [
        "In this example, strings, numbers, and tuples are used as keys, demonstrating their immutability and suitability for dictionary keys. Attempting to use a list (which is mutable) as a key results in a TypeError. This ensures the dictionary remains reliable and efficient."
      ],
      "metadata": {
        "id": "7fj0LzWXy4Kp"
      }
    }
  ]
}